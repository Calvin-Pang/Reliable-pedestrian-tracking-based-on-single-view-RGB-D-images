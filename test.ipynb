{
 "cells": [
  {
   "cell_type": "code",
   "execution_count": 33,
   "metadata": {},
   "outputs": [],
   "source": [
    "# import pickle\n",
    "# F=open(r'prepared_train_annotation.pkl','rb')\n",
    "# content=pickle.load(F)\n"
   ]
  },
  {
   "cell_type": "code",
   "execution_count": 34,
   "metadata": {},
   "outputs": [],
   "source": [
    "import json\n",
    "filename = 'person_keypoints_val2017.json'\n",
    "with open(filename, 'r', encoding='UTF-8') as f:\n",
    "    gt = json.load(f)"
   ]
  },
  {
   "cell_type": "code",
   "execution_count": 10,
   "metadata": {},
   "outputs": [
    {
     "data": {
      "text/plain": [
       "'000000250127.jpg'"
      ]
     },
     "execution_count": 10,
     "metadata": {},
     "output_type": "execute_result"
    }
   ],
   "source": [
    "file_name = 'E:/大学资料/Lab/RGBD/lightweight-human-pose-estimation.pytorch-master/val_2017/val2017/000000250127.jpg'\n",
    "file_name[-16:]"
   ]
  },
  {
   "cell_type": "code",
   "execution_count": 1,
   "metadata": {},
   "outputs": [
    {
     "data": {
      "text/plain": [
       "{'file_name': '000000250127.jpg',\n",
       " 'height': 640,\n",
       " 'weight': 640,\n",
       " 'kpt': [{'hp_id': 184031,\n",
       "   'kpt': [[299, 213],\n",
       "    [307.0, 263.0],\n",
       "    [266, 262],\n",
       "    [249, 323],\n",
       "    [285, 301],\n",
       "    [348, 264],\n",
       "    [364, 327],\n",
       "    [349, 309],\n",
       "    [285, 374],\n",
       "    [285, 470],\n",
       "    [286, 557],\n",
       "    [328, 372],\n",
       "    [326, 471],\n",
       "    [326, 561],\n",
       "    [290, 206],\n",
       "    [309, 206],\n",
       "    [286, 215],\n",
       "    [327, 215]]}]}"
      ]
     },
     "execution_count": 1,
     "metadata": {},
     "output_type": "execute_result"
    }
   ],
   "source": [
    "from convert_format import convert_img\n",
    "convert_img('E:/大学资料/Lab/RGBD/lightweight-human-pose-estimation.pytorch-master/val_2017/val2017/000000250127.jpg')"
   ]
  },
  {
   "cell_type": "code",
   "execution_count": 35,
   "metadata": {},
   "outputs": [],
   "source": [
    "def search_hp(hp_list,id):\n",
    "    result = []\n",
    "    for k in range(len(hp_list)):\n",
    "        if hp_list[k]['image_id'] == id and hp_list[k]['category_id'] == 1:\n",
    "            if hp_list[k]['keypoints'][17] != 0 and hp_list[k]['keypoints'][20] != 0:\n",
    "                hp_searched = {}\n",
    "                hp_searched['hp_id'] = hp_list[k]['id']\n",
    "                hp_searched['kpt'] = hp_list[k]['keypoints']\n",
    "                result.append(hp_searched)\n",
    "    return result"
   ]
  },
  {
   "cell_type": "code",
   "execution_count": 36,
   "metadata": {},
   "outputs": [],
   "source": [
    "def judge_kpt(kpt_pos):\n",
    "    if kpt_pos[2] == 0:\n",
    "        return '0'\n",
    "    elif kpt_pos[2] != 0:\n",
    "        return kpt_pos[0:2]"
   ]
  },
  {
   "cell_type": "code",
   "execution_count": 37,
   "metadata": {},
   "outputs": [],
   "source": [
    "def neck_pos(kptpos_list):\n",
    "    x = (kptpos_list[15] + kptpos_list[18]) / 2\n",
    "    y = (kptpos_list[16] + kptpos_list[19]) / 2\n",
    "    return [x,y]"
   ]
  },
  {
   "cell_type": "code",
   "execution_count": 38,
   "metadata": {},
   "outputs": [],
   "source": [
    "def convert(hp_list):\n",
    "    num_list = len(hp_list)\n",
    "    for t in range(num_list):\n",
    "        kpt_show = []\n",
    "        kpt_coco = hp_list[t]['kpt']\n",
    "        kpt_show.append(judge_kpt(kpt_coco[0:3]))#nose\n",
    "        kpt_show.append(neck_pos(kpt_coco))#neck\n",
    "        kpt_show.append(judge_kpt(kpt_coco[18:21]))#r_shoulder\n",
    "        kpt_show.append(judge_kpt(kpt_coco[24:27]))#r_elbow\n",
    "        kpt_show.append(judge_kpt(kpt_coco[30:33]))#r_wrist\n",
    "        kpt_show.append(judge_kpt(kpt_coco[15:18]))#l_shoulder\n",
    "        kpt_show.append(judge_kpt(kpt_coco[21:24]))#l_elbow\n",
    "        kpt_show.append(judge_kpt(kpt_coco[27:30]))#l_wrist\n",
    "        kpt_show.append(judge_kpt(kpt_coco[36:39]))#r_hip\n",
    "        kpt_show.append(judge_kpt(kpt_coco[42:45]))#r_knee\n",
    "        kpt_show.append(judge_kpt(kpt_coco[48:51]))#r_ankle\n",
    "        kpt_show.append(judge_kpt(kpt_coco[33:36]))#l_hip\n",
    "        kpt_show.append(judge_kpt(kpt_coco[39:42]))#l_knee\n",
    "        kpt_show.append(judge_kpt(kpt_coco[45:48]))#l_ankle\n",
    "        kpt_show.append(judge_kpt(kpt_coco[6:9]))#r_eye\n",
    "        kpt_show.append(judge_kpt(kpt_coco[3:6]))#l_eye\n",
    "        kpt_show.append(judge_kpt(kpt_coco[12:15]))#r_ear\n",
    "        kpt_show.append(judge_kpt(kpt_coco[9:12]))#l_ear\n",
    "        hp_list[t]['kpt'] = kpt_show\n",
    "    return hp_list"
   ]
  },
  {
   "cell_type": "code",
   "execution_count": 40,
   "metadata": {},
   "outputs": [
    {
     "name": "stdout",
     "output_type": "stream",
     "text": [
      "5000\n"
     ]
    }
   ],
   "source": [
    "img_list = gt['images']\n",
    "human_list = gt['annotations']\n",
    "num_img = len(img_list)\n",
    "img_list_converted = []\n",
    "for i in range(num_img):\n",
    "    img_dict = {}\n",
    "    img_dict['file_name'] = img_list[i]['file_name']\n",
    "    img_dict['height'] = img_list[i]['height']\n",
    "    img_dict['weight'] = img_list[i]['width']\n",
    "    img_id = img_list[i]['id']\n",
    "    hp_list = search_hp(human_list,img_id)\n",
    "    if len(hp_list) == 0:\n",
    "        img_dict['human_kpt'] = '0'\n",
    "    else:\n",
    "        converted_list = convert(hp_list)\n",
    "        img_dict['human_kpt'] = converted_list\n",
    "    img_list_converted.append(img_dict)\n",
    "# print(img_list_converted)   \n",
    "print(len(img_list_converted))"
   ]
  }
 ],
 "metadata": {
  "interpreter": {
   "hash": "08e819d6f40e2fff601b168d78dabf13126617cbb8ddee3b9ff7ba90bdb53d9f"
  },
  "kernelspec": {
   "display_name": "Python 3.7.11 64-bit ('torch_gpu': conda)",
   "name": "python3"
  },
  "language_info": {
   "codemirror_mode": {
    "name": "ipython",
    "version": 3
   },
   "file_extension": ".py",
   "mimetype": "text/x-python",
   "name": "python",
   "nbconvert_exporter": "python",
   "pygments_lexer": "ipython3",
   "version": "3.7.11"
  },
  "orig_nbformat": 4
 },
 "nbformat": 4,
 "nbformat_minor": 2
}
