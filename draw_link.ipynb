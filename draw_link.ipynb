{
 "cells": [
  {
   "cell_type": "code",
   "execution_count": 1,
   "metadata": {},
   "outputs": [
    {
     "name": "stdout",
     "output_type": "stream",
     "text": [
      "{'file_name': '000000011051.jpg', 'height': 536, 'weight': 640, 'human_kpt_list': [{'hp_id': 530192, 'kpt': [[544, 190], [536.5, 284.0], [482, 276], [416, 423], [353, 303], [591, 292], [425, 409], [321, 319], '0', '0', '0', '0', '0', '0', [526, 171], [568, 177], [487, 180], [588, 186]]}, {'hp_id': 539627, 'kpt': [[262, 133], [191.5, 253.0], [62, 261], [30, 447], '0', [321, 245], [354, 447], '0', '0', '0', '0', '0', '0', '0', [231, 106], [261, 106], [159, 115], '0']}]}\n"
     ]
    }
   ],
   "source": [
    "import matplotlib as plt\n",
    "import cv2\n",
    "from modules.convert_format import convert_img \n",
    "img_path = 'val_2017/val2017/000000011051.jpg'\n",
    "hp_list = convert_img(img_path)\n",
    "print(hp_list)"
   ]
  },
  {
   "cell_type": "code",
   "execution_count": 4,
   "metadata": {},
   "outputs": [
    {
     "data": {
      "text/plain": [
       "[52, 115, 177]"
      ]
     },
     "execution_count": 4,
     "metadata": {},
     "output_type": "execute_result"
    }
   ],
   "source": [
    "import numpy as np\n",
    "list(np.random.randint(0, 255, 3, dtype=np.int32))"
   ]
  },
  {
   "cell_type": "code",
   "execution_count": 5,
   "metadata": {},
   "outputs": [],
   "source": [
    "color = [[0,255,128],[0,0,128],[0,128,0],[128,0,0],[0,0,255],[0,255,0],[255,0,0],[0,128,255],[128,0,255],\n",
    "         [128,255,0],[128,0,128],[128,128,0],[0,128,128],[255,255,0],[255,0,255],[0,255,255],[128,128,128],[255,0,128]]"
   ]
  },
  {
   "cell_type": "code",
   "execution_count": 7,
   "metadata": {},
   "outputs": [
    {
     "data": {
      "text/plain": [
       "0"
      ]
     },
     "execution_count": 7,
     "metadata": {},
     "output_type": "execute_result"
    }
   ],
   "source": [
    "int(color[10][1])"
   ]
  },
  {
   "cell_type": "code",
   "execution_count": null,
   "metadata": {},
   "outputs": [],
   "source": [
    "def judge_kpt(kpt_pos):\n",
    "    if kpt_pos[2] == 0:\n",
    "        return '0'\n",
    "    elif kpt_pos[2] != 0:\n",
    "        return kpt_pos[0:2]\n",
    "def neck_pos(kptpos_list):\n",
    "    x = (kptpos_list[15] + kptpos_list[18]) / 2\n",
    "    y = (kptpos_list[16] + kptpos_list[19]) / 2\n",
    "    return [x,y]"
   ]
  },
  {
   "cell_type": "code",
   "execution_count": null,
   "metadata": {},
   "outputs": [],
   "source": [
    "def convert_pos(kpt_coco):\n",
    "    kpt_show = []\n",
    "    kpt_show.append(judge_kpt(kpt_coco[0:3]))#nose\n",
    "    kpt_show.append(neck_pos(kpt_coco))#neck\n",
    "    kpt_show.append(judge_kpt(kpt_coco[18:21]))#r_shoulder\n",
    "    kpt_show.append(judge_kpt(kpt_coco[24:27]))#r_elbow\n",
    "    kpt_show.append(judge_kpt(kpt_coco[30:33]))#r_wrist\n",
    "    kpt_show.append(judge_kpt(kpt_coco[15:18]))#l_shoulder\n",
    "    kpt_show.append(judge_kpt(kpt_coco[21:24]))#l_elbow\n",
    "    kpt_show.append(judge_kpt(kpt_coco[27:30]))#l_wrist\n",
    "    kpt_show.append(judge_kpt(kpt_coco[36:39]))#r_hip\n",
    "    kpt_show.append(judge_kpt(kpt_coco[42:45]))#r_knee\n",
    "    kpt_show.append(judge_kpt(kpt_coco[48:51]))#r_ankle\n",
    "    kpt_show.append(judge_kpt(kpt_coco[33:36]))#l_hip\n",
    "    kpt_show.append(judge_kpt(kpt_coco[39:42]))#l_knee\n",
    "    kpt_show.append(judge_kpt(kpt_coco[45:48]))#l_ankle\n",
    "    kpt_show.append(judge_kpt(kpt_coco[6:9]))#r_eye\n",
    "    kpt_show.append(judge_kpt(kpt_coco[3:6]))#l_eye\n",
    "    kpt_show.append(judge_kpt(kpt_coco[12:15]))#r_ear\n",
    "    kpt_show.append(judge_kpt(kpt_coco[9:12]))#l_ear\n",
    "    return kpt_show"
   ]
  },
  {
   "cell_type": "code",
   "execution_count": null,
   "metadata": {},
   "outputs": [],
   "source": [
    "BODY_PARTS_KPT_IDS = [[1, 2], [1, 5], [2, 3], [3, 4], [5, 6], [6, 7], [1, 8], [8, 9], [9, 10], [1, 11],\n",
    "                      [11, 12], [12, 13], [1, 0], [0, 14], [14, 16], [0, 15], [15, 17], [2, 16], [5, 17]]\n",
    "BODY_PARTS_PAF_IDS = ([12, 13], [20, 21], [14, 15], [16, 17], [22, 23], [24, 25], [0, 1], [2, 3], [4, 5],\n",
    "                      [6, 7], [8, 9], [10, 11], [28, 29], [30, 31], [34, 35], [32, 33], [36, 37], [18, 19], [26, 27])\n",
    "img_3d = img\n",
    "for keypoints in coco_keypoints:\n",
    "    for idx in range(len(keypoints) // 3):\n",
    "        \n",
    "        cv2.circle(img_3d, (int(keypoints[idx * 3]), int(keypoints[idx * 3 + 1])),\n",
    "                               3, (255, 0, 255), -1)\n",
    "plt.figure(figsize=(20,20))\n",
    "plt.imshow(cv2.cvtColor(img_3d,cv2.COLOR_BGR2RGB))\n",
    "plt.show()"
   ]
  }
 ],
 "metadata": {
  "interpreter": {
   "hash": "08e819d6f40e2fff601b168d78dabf13126617cbb8ddee3b9ff7ba90bdb53d9f"
  },
  "kernelspec": {
   "display_name": "Python 3.7.11 64-bit ('torch_gpu': conda)",
   "name": "python3"
  },
  "language_info": {
   "codemirror_mode": {
    "name": "ipython",
    "version": 3
   },
   "file_extension": ".py",
   "mimetype": "text/x-python",
   "name": "python",
   "nbconvert_exporter": "python",
   "pygments_lexer": "ipython3",
   "version": "3.7.11"
  },
  "orig_nbformat": 4
 },
 "nbformat": 4,
 "nbformat_minor": 2
}
